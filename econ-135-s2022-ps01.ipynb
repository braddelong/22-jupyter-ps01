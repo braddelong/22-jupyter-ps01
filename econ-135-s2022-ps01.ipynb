{
 "cells": [
  {
   "cell_type": "markdown",
   "metadata": {},
   "source": [
    "# 1. Introduction to Python & Notebooks"
   ]
  },
  {
   "cell_type": "markdown",
   "metadata": {},
   "source": [
    "<datahub url>"
   ]
  },
  {
   "cell_type": "markdown",
   "metadata": {},
   "source": [
    "This is an interactive jupyter notebook document, accessible at: <http://datahub.berkeley.edu/user-redirect/interact?account=braddelong&repo=22-jupyter-ps01&branch=main&path=econ-135-s2022-ps01.ipynb>\n",
    "\n",
    "Page down through it, following the instructions…\n",
    "\n",
    "These computer programming problem set assignments are a required part of the course.  \n",
    "\n",
    "Collaborating on the problem sets is more than okay—it is encouraged! Seek help from a classmate or an instructor or a roommate or a passerby when you get stuck! (Explaining things is beneficial, too—the best way to solidify your knowledge of a subject is to explain it.) \n",
    "\n",
    "But the work has to be your own: no cutting-&-pasting from others' problem sets, please! We want you to learn this stuff, and your fingers typing every keystroke is an important way of building muscle memory here.\n",
    "\n",
    "In fact, we strongly recommend that as you work through this notebook, whenever you come to a \"code\" cell—something intended not for you to read but also to direct the computer—the python interpreter—to do calculations, you (1) click on the code cell to bring it into your browser's focus; (2) click on the `+` button in the toolbar above to create a new code cell just below the one you were now in; and then (3) retype, line-by-line, the computer code in the cell (not the comment lines beginning with `#`s, but the code cells) while trying to figure out what the line of code is intended to tell the python interpreter to do. \"Muscle\"—in this case, fingertip—memory is an important but undervalued part of \"active learning\" here at Berkeley. In Germany, however, they have a term for it: _das Fingerspitzengefühl_; it's the kind of understanding-through-the-fingertips that a true expert has.\n",
    "\n",
    "In this problem set, you will learn how to:\n",
    "\n",
    "1. navigate Jupyter notebooks (like this one);\n",
    "2. write and evaluate some basic *expressions* in Python, the computer language of the course;\n",
    "3. call *functions* to use code other people have written; and\n",
    "4. break down python code into smaller parts to understand it.\n",
    "5. Do some initial data explorations with Python in a notebook.\n",
    "\n",
    "With what looks to be a permanent and long-run partial moving-online of the university, the already important topic of “data science” seems likely to become even more foundational.  Hence I am going to try to provide you with an introduction—to “data science”, and to the framework we will be using for problem sets that we hope will make things much easier for you and for us…\n",
    "\n",
    "When you are finished, satisfied, or stuck, print your notebook to pdf, & upload the pdf to the appropriate assignment bCourses page: <<https://bcourses.berkeley.edu/courses/1511359/assignments/8365146>>\n",
    "\n",
    "Also, please include with your submission all of your comments on and reactions to this assignment that you want us to know..."
   ]
  },
  {
   "cell_type": "markdown",
   "metadata": {
    "deletable": false
   },
   "source": [
    "For reference, you might find it useful to read chapter 3 of the Data 8 textbook: <<http://www.inferentialthinking.com/chapters/03/programming-in-python.html>>. Chapters 1 <<https://www.inferentialthinking.com/chapters/01/what-is-data-science.html>> and 2 <<https://www.inferentialthinking.com/chapters/02/causality-and-experiments.html>> are worth skimming as well...\n",
    "\n",
    "----"
   ]
  },
  {
   "cell_type": "markdown",
   "metadata": {
    "deletable": false
   },
   "source": [
    "## 1.1. Why Are We Doing This?\n",
    "\n",
    "First of all, we are doing this because our section leaders are overworked: teaching online takes more time and effort than teaching in person, and our section leaders were not overpaid before the 'rona arrived on these shores. Taking the bulk of the work of grading calculation assignments off of their backs is a plus—and it appears that the best way for us to do that is to distribute a number of the course assignements to you in this form: the form of a Python computer language \"jupyter notebook\"\n",
    "\n",
    "Second, we are doing this because learning jupyter notebooks and python may well turn out to be the intellectual equivalent for you of \"eat your spinach\": something that may seem unpleasant and unappetizing now, but that makes you stronger and more capable. \n",
    "\n",
    "A couple of years ago, I had coffee with a student who had graduated in 2007, and who attributed a large chunk of the interesting and successful career he has had in the past decade-and-a-half years—had in spite of the collapse of the job market in 2008-9—to the fact that he had been fluent in Microsoft Office when he left Berkeley. But now, he said—and I agree—it is not fluency in Word, Powerpoint, and (shudder) Excel that allows one to make oneself useful in a white-collar organization doing interesting work while one learns-by-doing, it is rather fluency in a language like Python and the ability to script hooks into various Big Data and other APIs. \n",
    "\n",
    "An analogy: Back in the medieval European university, people would learn the Trivium—the 'trivial' subjects of Grammar (how to write), Rhetoric (how to speak in public), and lLogic (how to think coherently)—then they would learn the Quadrivium of Arithmetic, Geometry, Music/Harmony, and Astronomy/Astrology; and last they would learn the advanced and professional subjects: Law or Medicine or Theology and Physics, Metaphysics, and Moral Philosophy.\n",
    "\n",
    "But a student would also learn two more things: how to learn by reading—how to take a book and get something useful out of it, without a requiring a direct hands-on face-to-face teacher; and (2) how to write a fine chancery hand so that they could prepare their own documents, for submission to secular courts or to religious bishops or even just put them in a form where they would be easily legible to any educated audience back in those days before screens-and-attachments, before screens-and-printers, before typewriters, before printing.\n",
    "\n",
    "In 1999 Python programming language creator Guido van Rossem compared the ability to read, write, and use software you had built or modified yourself to search and analyze data and information collections. Guido predicted that mass programming, if it could be attained, would produce increases in societal power and changes in societal organization of roughly the same magnitude as mass literacy has had over the past several centuries. Guido may be right, and he may be wrong. But what is clear is that your lives may be richer, and you may have more options, if the data science and basic programming intellectual tools become a useful part of your intellectual panoplies.\n",
    "\n",
    "The Data Science tools may well turn out to be in the first half of the 2000s the equivalent of a _fine chancery hand_, just as a facility with the document formats and commands of the Microsoft office suite were the equivalent of a fine chancery hand at the end of the 1900s: practical, general skills that make you of immense value to most if not nearly all organizations. This—along with the ability to absorb useful knowledge without requiring hands-on person-to-person face-to-face training—will greatly boost your social power and your set of opportunities in your life.\n",
    "\n",
    "If we are right about its value.\n",
    "\n",
    "Why Jupyter and Python, rather than R-studio and R, or C++ and Matlab? Because Jupyter Project founder Fernando Perez has an office on the fourth floor of Evans. Because 40% of Berkeley undergraduates currently take Data 8 and so, taking account of other channels, more than half of Berkeley students are already going to graduate literonumerate in Python.\n",
    "\n",
    "Is fluency in something like Python in particular and data-science tools in general is becoming, for the 21st Century, the equivalent of what learning to write a fine chancery hand was if you went to Oxford or Cambridge University in the 14th Century? We do not know. We do think we should help you get ready.\n",
    "\n",
    "Third, why Jupyter and Python, rather than R-Studio and R, or C++ and MATLAB, or even (horrors!) Microsoft Ezcel? Because Jupyter Project founder Fernando Perez has an office on the fourth floor of Evans. Because half of Berkeley undergraduates currently take Data 8 and so, taking account of other channels, more than half of Berkeley students are already going to graduate literate in python.\n",
    "\n",
    "Let us get started!\n",
    "\n",
    "----"
   ]
  },
  {
   "cell_type": "markdown",
   "metadata": {},
   "source": [
    "## 1.2. Jupyter Notebooks\n",
    "\n",
    "This browser window is now showing you a computer science object that is called a \"Jupyter notebook\". A notebook is a place to write programs and view their results, and also to write text. The text and programs are contained in little boxes called \"cells\". When the computer thinks that you are paying attention to a particular cell—and may click in it, and then edit it—it surrounds the cell with a blue box, and puts a blue line to the left of the cell.\n",
    "\n",
    "A notebook is an editable document object in which you can write computer programs; view their results; and comment, annotate, and explain what is going on. Project jupyter <https://en.wikipedia.org/wiki/Project_Jupyter> is headquartered here at Berkeley, where jupyter originator and ringmaster Fernando Pérez <https://en.wikipedia.org/wiki/Fernando_Pérez_(software_developer)> works: its purpose is to build human-friendly frameworks for interactive computing. If you want to see what Fernando looks and sounds like, you can load and watch a 15-minute inspirational video by clicking on the line 'YouTubeVideo(\"Wd6a3JIFH0s\")' in the cell immediately below this one, and then clicking on the '▶' symbol in the toolbar at the top of the sub-window this cell appears in: "
   ]
  },
  {
   "cell_type": "code",
   "execution_count": 1,
   "metadata": {},
   "outputs": [
    {
     "data": {
      "image/jpeg": "[encoded data removed]",
      "text/html": [
       "\n",
       "        <iframe\n",
       "            width=\"400\"\n",
       "            height=\"300\"\n",
       "            src=\"https://www.youtube.com/embed/Wd6a3JIFH0s\"\n",
       "            frameborder=\"0\"\n",
       "            allowfullscreen\n",
       "        ></iframe>\n",
       "        "
      ],
      "text/plain": [
       "<IPython.lib.display.YouTubeVideo at 0x7f96d046c690>"
      ]
     },
     "execution_count": 1,
     "metadata": {},
     "output_type": "execute_result"
    }
   ],
   "source": [
    "from IPython.display import YouTubeVideo\n",
    "\n",
    "# The original URL is: \n",
    "# https://www.youtube.com/watch?v=Wd6a3JIFH0s\n",
    "\n",
    "YouTubeVideo(\"Wd6a3JIFH0s\")"
   ]
  },
  {
   "cell_type": "markdown",
   "metadata": {},
   "source": [
    "### 1.2.1. Code Cells\n",
    "\n",
    "The _cell_ directly below this one contains one line of code in the Python 3 computer language. You _run_ this line as a program—the computer _executes_ the instructions the cell containss—when you click on the '▶' symbol in the toolbar at the top of this sub-window. (You could also have run the cell by, when the computer has focused on it by your clicking on it, pressing 'shift-return' or 'control-return' on your keyboard.) a code cell will execute all of the code it contains.\n",
    "\n",
    "The line of type in the cell is a _Python expression_.\n",
    "&nbsp;\n",
    "\n",
    "Now try running this cell:"
   ]
  },
  {
   "cell_type": "code",
   "execution_count": 2,
   "metadata": {},
   "outputs": [
    {
     "name": "stdout",
     "output_type": "stream",
     "text": [
      "Hello, World!\n"
     ]
    }
   ],
   "source": [
    "print(\"Hello, World!\")"
   ]
  },
  {
   "cell_type": "markdown",
   "metadata": {},
   "source": [
    "and this one:"
   ]
  },
  {
   "cell_type": "code",
   "execution_count": 3,
   "metadata": {},
   "outputs": [
    {
     "name": "stdout",
     "output_type": "stream",
     "text": [
      "👋, 🌏!\n"
     ]
    }
   ],
   "source": [
    "print(\"\\N{WAVING HAND SIGN}, \\N{EARTH GLOBE ASIA-AUSTRALIA}!\")"
   ]
  },
  {
   "cell_type": "markdown",
   "metadata": {},
   "source": [
    "Every 'print' expression commands the computer to print a line of symbols to the screen. Directions as to what is in the line of symbols that it prints are contained between the '(' and the ')' that follow the initial Python command 'print' on the expression line.\n",
    "\n",
    "The first of the two code cells above that you just ran is the standard first computer program to write, either if you are a new student or if you are testing out a new machine or testing out writing in a new programming language. it tells the computer to print out to the screen the symbols 'Hello, World!' What did the second code cell print to the screen, and why?\n",
    "\n",
    "Within a code cell, each 'print' statement's output is printed to the screen on a separate line. The lines are arranged in the order in which the computer, scanning from the top to the bottom of the code cell, encounters the lines.\n",
    "\n",
    "In the code cell immediately below, write and then execute a line of Python that prints out: \"Friends don't let friends program in Excel!\""
   ]
  },
  {
   "cell_type": "code",
   "execution_count": null,
   "metadata": {},
   "outputs": [],
   "source": [
    "# **answer**\n",
    "\n"
   ]
  },
  {
   "cell_type": "markdown",
   "metadata": {},
   "source": [
    "Remember the Fernando Perez video? Let's look back on its code cell:"
   ]
  },
  {
   "cell_type": "markdown",
   "metadata": {},
   "source": [
    "This cell tells the computer to enlarge the set of Python commands it understands by finding the `YouTubeVideo` command in the `IPython.display` external library of commands, and then importing that command into its memory. Once it has done that, you can then ask the computer to execute that command—which then constructs a little YouTube video window and plays a YouTube video in it. You ask the computer to do so the in the fourth line of the code cell. Which YouTube video does the computer play? You tell it by writing, after `YouTubVideo` a `(`, then a `\"`, then the reference ID of the video, then another `\"`, and then, finally, a `'`.\n",
    "\n",
    "Between the first and the last lines of the code cell are two lines that are _comment lines_. Anything on a line that comes after a `#` symbol inside a code cell the computer takes to be a comment—something directed at humans, and not at computers, that it should ignore. The comment lines tell you—us—what the URL is for the video that the fourth line is going to command the computer to play.\n",
    "\n",
    "The cell also contains two blank lines. They are just there to give your eyes and brain visual clues to where to look for information, and thus make code cells easier to read.\n",
    "\n",
    "----"
   ]
  },
  {
   "cell_type": "code",
   "execution_count": 4,
   "metadata": {},
   "outputs": [
    {
     "data": {
      "image/jpeg": "[encoded data removed]",
      "text/html": [
       "\n",
       "        <iframe\n",
       "            width=\"400\"\n",
       "            height=\"300\"\n",
       "            src=\"https://www.youtube.com/embed/Wd6a3JIFH0s\"\n",
       "            frameborder=\"0\"\n",
       "            allowfullscreen\n",
       "        ></iframe>\n",
       "        "
      ],
      "text/plain": [
       "<IPython.lib.display.YouTubeVideo at 0x7f9701294850>"
      ]
     },
     "execution_count": 4,
     "metadata": {},
     "output_type": "execute_result"
    }
   ],
   "source": [
    "from IPython.display import YouTubeVideo\n",
    "\n",
    "# The original URL is: \n",
    "# https://www.youtube.com/watch?v=Wd6a3JIFH0s\n",
    "\n",
    "YouTubeVideo(\"Wd6a3JIFH0s\")"
   ]
  },
  {
   "cell_type": "markdown",
   "metadata": {},
   "source": [
    "In the code cell immediately below, write and then execute a line of Python that plays your favorite Youtube video inside this notebook:"
   ]
  },
  {
   "cell_type": "code",
   "execution_count": 1,
   "metadata": {},
   "outputs": [
    {
     "data": {
      "image/jpeg": "[encoded data removed]",
      "text/html": [
       "\n",
       "        <iframe\n",
       "            width=\"400\"\n",
       "            height=\"300\"\n",
       "            src=\"https://www.youtube.com/embed/LQNTNWaYlUw\"\n",
       "            frameborder=\"0\"\n",
       "            allowfullscreen\n",
       "        ></iframe>\n",
       "        "
      ],
      "text/plain": [
       "<IPython.lib.display.YouTubeVideo at 0x7fb400917650>"
      ]
     },
     "execution_count": 1,
     "metadata": {},
     "output_type": "execute_result"
    }
   ],
   "source": [
    "# **answer**\n",
    "\n"
   ]
  },
  {
   "cell_type": "markdown",
   "metadata": {},
   "source": [
    "### 1.2.2. Text cells\n",
    "In a notebook, each rectangle containing text or code is called a *cell*.\n",
    "\n",
    "Text cells (like this one) can be edited by double-clicking on them. They're written in a simple format created by programmer-flaneur Jon Gruber called **markdown** <<http://daringfireball.net/projects/markdown/syntax>> to add formatting and section headings. You almost surely want to learn how to use markdown.\n",
    "\n",
    "After you edit a text cell, click the 'run cell' button at the top that looks like `▶` in the toolbar at the top of this window, or press 'shift-return' on your keyboard to confirm any changes to the text and formatting. "
   ]
  },
  {
   "cell_type": "markdown",
   "metadata": {},
   "source": [
    "**Question.** This paragraph is in its own text cell.  Try editing it so that this sentence is the last sentence in the paragraph, and then click the 'run cell' `▶` button or 'shift-return'. This sentence, for example, should be deleted. So should this one."
   ]
  },
  {
   "cell_type": "markdown",
   "metadata": {
    "deletable": false
   },
   "source": [
    "**Answer.** This paragraph is in its own text cell.  Try editing it so that this sentence is the last sentence in the paragraph, and then click the 'run cell' `▶` button or 'shift-return'."
   ]
  },
  {
   "cell_type": "markdown",
   "metadata": {},
   "source": [
    "----"
   ]
  },
  {
   "cell_type": "markdown",
   "metadata": {},
   "source": [
    "### 1.2.3. Writing notebooks\n",
    "You can use Jupyter notebooks for your own projects or documents.  When you make your own notebook, you'll need to create your own cells for text and code.\n",
    "\n",
    "To add a cell, click the + button in the menu bar.  It will start out as either a markdown text or a code cell.  You can change it to the other type by clicking inside it so it's highlighted, clicking the drop-down box to the left of 'Python 3' in the menu bar, and choosing either 'Code' or 'Markdown'.\n",
    "\n",
    "&nbsp;\n",
    "\n",
    "**Question** Add a code cell below this one.  Write code in it that prints out:\n",
    "   \n",
    "    A whole new cell! ♪🌏♪\n",
    "\n",
    "(That musical note symbol is like the Earth symbol.  Its long-form name is \n",
    "\n",
    "`\\N{EIGHTH NOTE}`\n",
    "\n",
    ".)\n",
    "\n",
    "Run your cell to verify that it works."
   ]
  },
  {
   "cell_type": "code",
   "execution_count": 5,
   "metadata": {},
   "outputs": [
    {
     "name": "stdout",
     "output_type": "stream",
     "text": [
      "A whole new cell! ♪ 🌏 ♪\n"
     ]
    }
   ],
   "source": [
    "# **answer**\n",
    "\n"
   ]
  },
  {
   "cell_type": "markdown",
   "metadata": {},
   "source": [
    "The expression \n",
    "\n",
    "`\"A whole new cell! \\N{EIGHTH NOTE} \\N{EARTH GLOBE ASIA-AUSTRALIA} \\N{EIGHTH NOTE}\"` \n",
    "\n",
    "is just a string of symbols. The quotation marks at the start and the end tell Python that it is a string of symbols. Similarly, the expression \n",
    "\n",
    "`\"a\"`\n",
    "\n",
    "is a (very short) string of symbols. What happens when we tell Python to print it?"
   ]
  },
  {
   "cell_type": "code",
   "execution_count": 6,
   "metadata": {},
   "outputs": [
    {
     "name": "stdout",
     "output_type": "stream",
     "text": [
      "a\n"
     ]
    }
   ],
   "source": [
    "print(\"a\")"
   ]
  },
  {
   "cell_type": "markdown",
   "metadata": {},
   "source": [
    "What if we take out the quotation marks?"
   ]
  },
  {
   "cell_type": "code",
   "execution_count": 7,
   "metadata": {},
   "outputs": [],
   "source": [
    "print(a)"
   ]
  },
  {
   "cell_type": "markdown",
   "metadata": {},
   "source": [
    "----"
   ]
  },
  {
   "cell_type": "markdown",
   "metadata": {},
   "source": [
    "### 1.2.4. \"Errors\"\n",
    "\n",
    "Python is a language, and like natural human languages, it has rules.  It differs from natural language in two important ways:\n",
    "\n",
    "1. The rules are *simple*.  You can learn most of them in a few weeks and gain reasonable proficiency with the language in a semester.\n",
    "2. The rules are *rigid*. If you're proficient in a natural language, you can understand a non-proficient speaker, glossing over small mistakes.  A computer running Python code is not smart enough to do that.\n",
    "\n",
    "Whenever you write code, you'll make mistakes.  When you run a code cell that has errors, Python will sometimes produce error messages to tell you what you did wrong.\n",
    "\n",
    "Errors are okay; even experienced programmers make many errors.  When you make an error, you just have to find the source of the problem, fix it, and move on.\n",
    "\n",
    "When you run code, you have the option to, in the window menubar, click 'Run > Run All Cells', which will run all the code cells in the notebook in order. However, the notebook stops running code cells if it hits an error.\n",
    "\n",
    "We have made an error in the next code cell.  Run it and see what happens. Then correct it:"
   ]
  },
  {
   "cell_type": "code",
   "execution_count": 8,
   "metadata": {
    "deletable": false,
    "scrolled": true
   },
   "outputs": [],
   "source": [
    "print(\"This line is missing something.\""
   ]
  },
  {
   "cell_type": "markdown",
   "metadata": {},
   "source": [
    "When you ran the code cell above, you ought to have seen (minus the Data 8 staff's annotations) something like this:\n",
    "\n",
    "<img src=\"images/error.jpg\" width=\"600\" />\n",
    "\n",
    "The last line of the error output attempts to tell you what went wrong.  The *syntax* of a language is its structure, and this 'SyntaxError' tells you that you have created an illegal structure.  'EOF' means 'end of file', so the message is saying Python expected you to write something more (in this case, a right parenthesis) before finishing the cell.\n",
    "\n",
    "There's a lot of terminology in programming languages, but you don't need to know it all in order to program effectively. If you see a cryptic message like this, you can often get by without deciphering it.  (Of course, if you're frustrated, ask a neighbor or a staff member for help.) Googling the error message is often a very good strategy as well:\n",
    "\n",
    "<img src=\"images/googling-the-error-message-essential-book-orly_jpg_735×900_pixels.png\" width=\"600\" />\n",
    "\n",
    "Try to fix the code above so that you can run the cell and see the intended message instead of an error."
   ]
  },
  {
   "cell_type": "code",
   "execution_count": 9,
   "metadata": {
    "for_assignment_type": "solution"
   },
   "outputs": [
    {
     "name": "stdout",
     "output_type": "stream",
     "text": [
      "This line is missing something.\n"
     ]
    }
   ],
   "source": [
    "# **answer**\n"
   ]
  },
  {
   "cell_type": "markdown",
   "metadata": {},
   "source": [
    "The first rule of computer programming: MAKING ERRORS IS NOT A PROBLEM. MAKING ERRORS IS AN OPPORTUNITY.\n",
    "\n",
    "----"
   ]
  },
  {
   "cell_type": "markdown",
   "metadata": {},
   "source": [
    "### 1.2.5. The Kernel\n",
    "The kernel is a program that executes the code inside your notebook and outputs the results. In the top right of your window, you can see a circle that indicates the status of your kernel. If the circle is empty (⚪), the kernel is idle and ready to execute code. If the circle is filled in (⚫), the kernel is busy running some code. \n",
    "\n",
    "Next to every code cell, you'll see some text that says 'In [...]'. Before you run the cell, you'll see 'In [ ]'. When the cell is running, you'll see 'In [*]'. If you see an asterisk (\\*) next to a cell that doesn't go away, it's likely that the code inside the cell is taking too long to run, and it might be a good time to interrupt the kernel (discussed below). When a cell is finished running, you'll see a number inside the brackets, like so: 'In [1]'. The number corresponds to the order in which you run the cells; so, the first cell you run will show a 1 when it's finished running, the second will show a 2, and so on. \n",
    "\n",
    "You may run into problems where your kernel is stuck for an excessive amount of time, your notebook is very slow and unresponsive, or your kernel loses its connection. If this happens, try the following steps:\n",
    "\n",
    "1. At the top of your screen, click **Kernel**, then **Interrupt**.\n",
    "2. If that doesn't help, click **Kernel**, then **Restart**. If you do this, you will have to run your code cells from the start of your notebook up until where you paused your work.\n",
    "3. If that doesn't help, restart your server. First, save your work by clicking **File** at the top left of your screen, then **Save and Checkpoint**. Next, click **Control Panel** at the top right. Choose **Stop My Server** to shut it down, then **Start My Server** to start it back up. Then, navigate back to the notebook you were working on. You'll still have to run your code cells again.\n",
    "\n",
    "----"
   ]
  },
  {
   "cell_type": "markdown",
   "metadata": {},
   "source": [
    "### 1.2.6. Libraries\n",
    "There are many add-ons and extensions to the core of python that are useful—indeed essential—to using it to get work done. They are contained in what are called libraries. The rest of this notebook needs three libraries. So let us tell the python interpreter to install them. Run the code cell below to do so: "
   ]
  },
  {
   "cell_type": "code",
   "execution_count": 10,
   "metadata": {},
   "outputs": [
    {
     "name": "stdout",
     "output_type": "stream",
     "text": [
      "Requirement already satisfied: numpy in /Users/braddelong/opt/anaconda3/lib/python3.7/site-packages (1.19.2)\n",
      "Requirement already satisfied: pandas in /Users/braddelong/opt/anaconda3/lib/python3.7/site-packages (1.1.3)\n",
      "Requirement already satisfied: python-dateutil>=2.7.3 in /Users/braddelong/opt/anaconda3/lib/python3.7/site-packages (from pandas) (2.8.1)\n",
      "Requirement already satisfied: pytz>=2017.2 in /Users/braddelong/opt/anaconda3/lib/python3.7/site-packages (from pandas) (2020.4)\n",
      "Requirement already satisfied: numpy>=1.15.4 in /Users/braddelong/opt/anaconda3/lib/python3.7/site-packages (from pandas) (1.19.2)\n",
      "Requirement already satisfied: six>=1.5 in /Users/braddelong/opt/anaconda3/lib/python3.7/site-packages (from python-dateutil>=2.7.3->pandas) (1.15.0)\n",
      "Requirement already satisfied: matplotlib in /Users/braddelong/opt/anaconda3/lib/python3.7/site-packages (3.3.2)\n",
      "Requirement already satisfied: pillow>=6.2.0 in /Users/braddelong/opt/anaconda3/lib/python3.7/site-packages (from matplotlib) (8.0.1)\n",
      "Requirement already satisfied: certifi>=2020.06.20 in /Users/braddelong/opt/anaconda3/lib/python3.7/site-packages (from matplotlib) (2020.12.5)\n",
      "Requirement already satisfied: kiwisolver>=1.0.1 in /Users/braddelong/opt/anaconda3/lib/python3.7/site-packages (from matplotlib) (1.3.0)\n",
      "Requirement already satisfied: cycler>=0.10 in /Users/braddelong/opt/anaconda3/lib/python3.7/site-packages (from matplotlib) (0.10.0)\n",
      "Requirement already satisfied: pyparsing!=2.0.4,!=2.1.2,!=2.1.6,>=2.0.3 in /Users/braddelong/opt/anaconda3/lib/python3.7/site-packages (from matplotlib) (2.4.7)\n",
      "Requirement already satisfied: numpy>=1.15 in /Users/braddelong/opt/anaconda3/lib/python3.7/site-packages (from matplotlib) (1.19.2)\n",
      "Requirement already satisfied: python-dateutil>=2.1 in /Users/braddelong/opt/anaconda3/lib/python3.7/site-packages (from matplotlib) (2.8.1)\n",
      "Requirement already satisfied: six in /Users/braddelong/opt/anaconda3/lib/python3.7/site-packages (from cycler>=0.10->matplotlib) (1.15.0)\n",
      "Requirement already satisfied: six in /Users/braddelong/opt/anaconda3/lib/python3.7/site-packages (from cycler>=0.10->matplotlib) (1.15.0)\n"
     ]
    }
   ],
   "source": [
    "# install the numerical python, python data analysis, and mathematical\n",
    "# plotting libraries for python\n",
    "\n",
    "!pip install numpy\n",
    "!pip install pandas\n",
    "!pip install matplotlib\n",
    "\n",
    "import numpy as np\n",
    "import pandas as pd\n",
    "import matplotlib as mpl"
   ]
  },
  {
   "cell_type": "markdown",
   "metadata": {},
   "source": [
    "----"
   ]
  },
  {
   "cell_type": "markdown",
   "metadata": {},
   "source": [
    "# 2. Programming in Python\n",
    "\n",
    "## 2.1. Python: Numbers & Variables\n",
    "\n",
    "### 2.1.1. Variables\n",
    "\n",
    "Remember our line that went wrong: `print(a)`? The Python interpreter kernel burped up an error. It said \"name is not defined\". What does this mean? It means that, without the quotation marks telling Python the a is a string, it thought that the a was the name of something—a variable. But it wasn't. So it did not know what to do.\n",
    "\n",
    "Let's fix that:"
   ]
  },
  {
   "cell_type": "code",
   "execution_count": 11,
   "metadata": {},
   "outputs": [],
   "source": [
    "a = \"Hello, World!\""
   ]
  },
  {
   "cell_type": "markdown",
   "metadata": {},
   "source": [
    "This is an *assignment* statement. It assigns whatever is on the right of the equals sign as the *value* of what the name on the left is. In natural language, we have terminology that lets us quickly reference very complicated concepts.  We don't say, \"That's a large mammal with brown fur and sharp teeth!\"  Instead, we just say, \"Bear!\" In Python, we do this with *assignment statements*—something that has a name on the left side of an '=' sign, and an expression that can be evaluated on the right.\n",
    "\n",
    "Now what do you think will happen if we tell Python to\n",
    "\n",
    "`print(a)`\n",
    "\n",
    "?\n",
    "\n",
    "Write a code cell and find out!"
   ]
  },
  {
   "cell_type": "code",
   "execution_count": 13,
   "metadata": {},
   "outputs": [
    {
     "name": "stdout",
     "output_type": "stream",
     "text": [
      "Hello, World!\n"
     ]
    }
   ],
   "source": [
    "# **answer**\n",
    "\n"
   ]
  },
  {
   "cell_type": "markdown",
   "metadata": {},
   "source": [
    "----\n",
    "\n",
    "Suppose that we assign something else to a?"
   ]
  },
  {
   "cell_type": "code",
   "execution_count": 14,
   "metadata": {},
   "outputs": [
    {
     "name": "stdout",
     "output_type": "stream",
     "text": [
      "3.25\n",
      "6.019999999999999e+23\n",
      "3628800\n"
     ]
    }
   ],
   "source": [
    "a = 3.25\n",
    "print(a)\n",
    "\n",
    "a = 6.02 * 10**23\n",
    "print(a)\n",
    "\n",
    "a = 1 * 2 * 3 * 4 * 5 * 6 * 7 * 8 * 9 * 10\n",
    "print (a)"
   ]
  },
  {
   "cell_type": "markdown",
   "metadata": {},
   "source": [
    "**Note**: If, on the last line of a cell, we leave off the `print`:"
   ]
  },
  {
   "cell_type": "code",
   "execution_count": 15,
   "metadata": {},
   "outputs": [
    {
     "data": {
      "text/plain": [
       "3628800"
      ]
     },
     "execution_count": 15,
     "metadata": {},
     "output_type": "execute_result"
    }
   ],
   "source": [
    "a"
   ]
  },
  {
   "cell_type": "markdown",
   "metadata": {},
   "source": [
    "When you run a notebook cell, if the last line has a _value_, then Jupyter helpfully prints out that value for you. However, it won't print out prior lines automatically:"
   ]
  },
  {
   "cell_type": "code",
   "execution_count": 16,
   "metadata": {
    "scrolled": true
   },
   "outputs": [
    {
     "name": "stdout",
     "output_type": "stream",
     "text": [
      "2\n"
     ]
    },
    {
     "data": {
      "text/plain": [
       "4"
      ]
     },
     "execution_count": 16,
     "metadata": {},
     "output_type": "execute_result"
    }
   ],
   "source": [
    "print(2)\n",
    "3\n",
    "4"
   ]
  },
  {
   "cell_type": "markdown",
   "metadata": {},
   "source": [
    "Above, you should see that 4 is the value of the last expression, 2 is printed because it is within the scope of the print command, but 3 is lost forever because it was neither printed nor last.\n",
    "\n",
    "If we want Python to move to the next line as it prints, we use `\\n` to tell it to do so:"
   ]
  },
  {
   "cell_type": "code",
   "execution_count": 2,
   "metadata": {},
   "outputs": [
    {
     "name": "stdout",
     "output_type": "stream",
     "text": [
      "stuff: now move to the next linie \n",
      "more stuff \n"
     ]
    }
   ],
   "source": [
    "print(\"stuff: now move to the next line \\nmore stuff \")"
   ]
  },
  {
   "cell_type": "markdown",
   "metadata": {},
   "source": [
    "In the code cell below, write and execute a line of Python to print \"stuff\" on the first line, skip the second line, and then print \"more stuff\" on the third line:"
   ]
  },
  {
   "cell_type": "code",
   "execution_count": 3,
   "metadata": {},
   "outputs": [
    {
     "name": "stdout",
     "output_type": "stream",
     "text": [
      "stuff \n",
      "\n",
      "more stuff\n"
     ]
    }
   ],
   "source": [
    "# **answer**\n",
    "\n"
   ]
  },
  {
   "cell_type": "markdown",
   "metadata": {},
   "source": [
    "----"
   ]
  },
  {
   "cell_type": "markdown",
   "metadata": {},
   "source": [
    "### 2.1.2. Arithmetic\n",
    "The line in the next cell subtracts.  Its value is what you'd expect.  Run it:"
   ]
  },
  {
   "cell_type": "code",
   "execution_count": 17,
   "metadata": {},
   "outputs": [
    {
     "data": {
      "text/plain": [
       "1.75"
      ]
     },
     "execution_count": 17,
     "metadata": {},
     "output_type": "execute_result"
    }
   ],
   "source": [
    "3.25 - 1.5"
   ]
  },
  {
   "cell_type": "markdown",
   "metadata": {},
   "source": [
    "Many basic arithmetic operations are built into Python.  The textbook section on [Expressions](http://www.inferentialthinking.com/chapters/03/1/expressions.html) describes all the arithmetic operators used in the course.  The common operator that differs from typical math notation is '\\*\\*', which raises one number to the power of the other. **NOT '^'.** Thus '2**3' stands for $2^3$ and evaluates to 8. \n",
    "\n",
    "The order of operations and parentheses is the same as what you learned in elementary school. For example, compare:"
   ]
  },
  {
   "cell_type": "code",
   "execution_count": 18,
   "metadata": {},
   "outputs": [
    {
     "data": {
      "text/plain": [
       "-723.0"
      ]
     },
     "execution_count": 18,
     "metadata": {},
     "output_type": "execute_result"
    }
   ],
   "source": [
    "3+6*5-6*3**2*2**3/4*7"
   ]
  },
  {
   "cell_type": "markdown",
   "metadata": {},
   "source": [
    "to:"
   ]
  },
  {
   "cell_type": "code",
   "execution_count": 19,
   "metadata": {},
   "outputs": [
    {
     "data": {
      "text/plain": [
       "2020.0"
      ]
     },
     "execution_count": 19,
     "metadata": {},
     "output_type": "execute_result"
    }
   ],
   "source": [
    "4+(6*5-(6*3))**2*((2**3)/4*7)"
   ]
  },
  {
   "cell_type": "markdown",
   "metadata": {},
   "source": [
    "In standard math notation, the first expression is\n",
    "\n",
    ">$3 + 6 \\times 5 - 6 \\times 3^2 \\times \\frac{2^3}{4} \\times 7$,\n",
    "\n",
    "while the second expression is\n",
    "\n",
    ">$3 + (6 \\times 5 - (6 \\times 3))^2 \\times (\\frac{(2^3)}{4} \\times 7)$."
   ]
  },
  {
   "cell_type": "markdown",
   "metadata": {},
   "source": [
    "There are some things to beware of in Python with respect to the standard arithmetic symbols:"
   ]
  },
  {
   "cell_type": "code",
   "execution_count": 20,
   "metadata": {},
   "outputs": [
    {
     "name": "stdout",
     "output_type": "stream",
     "text": [
      "2+2 = 4\n",
      "'2'+'2' = 22\n"
     ]
    }
   ],
   "source": [
    "print(\"2+2 =\", 2+2)\n",
    "print(\"'2'+'2' =\", \"2\"+\"2\")"
   ]
  },
  {
   "cell_type": "markdown",
   "metadata": {},
   "source": [
    "If the designers of Python had been ruthlessly pedantic, they might have made us write\n",
    "\n",
    "    define the name ten to hereafter have the value of 3 * 2 + 4 \n",
    "\n",
    "instead.  You will probably appreciate the brevity of `=`! But keep in mind that this is the real meaning. `=` does not assert or declare that what is on the left is equal to whqt is on the right. Rather, it takes what is on the right and stuffs it into the metaphorical box which has the name on the left.\n",
    "\n",
    "Suppose that you do want to use the equals sign in the normal way? You have to use `==`. Here is an example:"
   ]
  },
  {
   "cell_type": "code",
   "execution_count": 21,
   "metadata": {},
   "outputs": [
    {
     "name": "stdout",
     "output_type": "stream",
     "text": [
      "everything is ok\n"
     ]
    }
   ],
   "source": [
    "a = 4\n",
    "\n",
    "if (a == 4): \n",
    "  print(\"everything is ok\")\n",
    "else:\n",
    "  print(\"something is wrong!\")"
   ]
  },
  {
   "cell_type": "code",
   "execution_count": 22,
   "metadata": {},
   "outputs": [
    {
     "name": "stdout",
     "output_type": "stream",
     "text": [
      "something is wrong!\n"
     ]
    }
   ],
   "source": [
    "a = 3\n",
    "\n",
    "if (a == 4): \n",
    "  print(\"everything is ok\")\n",
    "else:\n",
    "  print(\"something is wrong!\")"
   ]
  },
  {
   "cell_type": "code",
   "execution_count": 23,
   "metadata": {},
   "outputs": [],
   "source": [
    "a = 4\n",
    "\n",
    "if (a = 4): \n",
    "  print(\"everything is ok\")\n",
    "else:\n",
    "  print(\"something is wrong!\")"
   ]
  },
  {
   "cell_type": "markdown",
   "metadata": {},
   "source": [
    "See? That last made the Python interpeter barf. By contrast, in the first of the three code cells, Python checked to make sure that variable a was in fact equal to four, and then reassured us. In the second of the thress code cells, Python checked, found out that a was not in fact equal to three, and called for help. But it just could not handle the third.\n",
    "\n",
    "----"
   ]
  },
  {
   "cell_type": "markdown",
   "metadata": {},
   "source": [
    "A common pattern in Jupyter notebooks is to assign a value to a name and then immediately evaluate the name in the last line in the cell so that the value is displayed as output. "
   ]
  },
  {
   "cell_type": "code",
   "execution_count": 24,
   "metadata": {},
   "outputs": [
    {
     "data": {
      "text/plain": [
       "3.1415929203539825"
      ]
     },
     "execution_count": 24,
     "metadata": {},
     "output_type": "execute_result"
    }
   ],
   "source": [
    "close_to_pi = 355/113\n",
    "close_to_pi"
   ]
  },
  {
   "cell_type": "markdown",
   "metadata": {},
   "source": [
    "Another common pattern is that a series of lines in a single cell will build up a complex computation in stages, naming the intermediate results."
   ]
  },
  {
   "cell_type": "code",
   "execution_count": 25,
   "metadata": {},
   "outputs": [
    {
     "data": {
      "text/plain": [
       "20190.0"
      ]
     },
     "execution_count": 25,
     "metadata": {},
     "output_type": "execute_result"
    }
   ],
   "source": [
    "semimonthly_salary = 841.25\n",
    "monthly_salary = 2 * semimonthly_salary\n",
    "number_of_months_in_a_year = 12\n",
    "yearly_salary = number_of_months_in_a_year * monthly_salary\n",
    "yearly_salary"
   ]
  },
  {
   "cell_type": "markdown",
   "metadata": {},
   "source": [
    "Names in Python can have letters (upper- and lower-case letters are both okay, and count as different letters), underscores, and numbers.  The first character can't be a number (otherwise a name might look like a number).  And names can't contain spaces, since spaces are used to separate pieces of code from each other.\n",
    "\n",
    "Other than those rules, what you name something doesn't matter *to Python*.  For example, this cell does the same thing as the above cell, except everything has a different name:"
   ]
  },
  {
   "cell_type": "code",
   "execution_count": 26,
   "metadata": {},
   "outputs": [
    {
     "data": {
      "text/plain": [
       "20190.0"
      ]
     },
     "execution_count": 26,
     "metadata": {},
     "output_type": "execute_result"
    }
   ],
   "source": [
    "a = 841.25\n",
    "b = 2 * a\n",
    "c = 12\n",
    "d = c * b\n",
    "d"
   ]
  },
  {
   "cell_type": "markdown",
   "metadata": {},
   "source": [
    "**However**, *names are very important for making your code readable* to yourself and others.  The cell above is shorter, but it's totally useless without an explanation of what it does. When you write any computer code, you must do so assuming that it will need to be read and used by the biggest idiot in the known world. Why? Because when you come back to your own code and need to use it, whether next year, next month, next week, tomorrow, or after dinner, you will soon discover that you are that idiot.\n",
    "\n",
    "----"
   ]
  },
  {
   "cell_type": "markdown",
   "metadata": {},
   "source": [
    "### 2.1.3. Lists\n",
    "\n",
    "Lists are ordered collections of objects that have an order. Lists allow us to store groups of variables under one name. The order then allows us to access the objects in the list for easy access and analysis. If you want an in-depth look at the capabilities of lists, take a look at <<https://www.tutorialspoint.com/python/python_lists.htm>>\n",
    "\n",
    "To initialize a list, you use brackets. Putting objects separated by commas in between the brackets will add them to the list. For example, we can create and name an empty list:"
   ]
  },
  {
   "cell_type": "code",
   "execution_count": 27,
   "metadata": {},
   "outputs": [
    {
     "name": "stdout",
     "output_type": "stream",
     "text": [
      "[]\n"
     ]
    }
   ],
   "source": [
    "list_example = []\n",
    "print(list_example)"
   ]
  },
  {
   "cell_type": "markdown",
   "metadata": {},
   "source": [
    "We can add an object to the end of a list:"
   ]
  },
  {
   "cell_type": "code",
   "execution_count": 28,
   "metadata": {},
   "outputs": [
    {
     "name": "stdout",
     "output_type": "stream",
     "text": [
      "[5]\n"
     ]
    }
   ],
   "source": [
    "list_example = list_example + [5]\n",
    "print(list_example)"
   ]
  },
  {
   "cell_type": "markdown",
   "metadata": {},
   "source": [
    "Now we have a one-element list. And we can add another element:"
   ]
  },
  {
   "cell_type": "code",
   "execution_count": 29,
   "metadata": {},
   "outputs": [
    {
     "name": "stdout",
     "output_type": "stream",
     "text": [
      "[5, 10]\n"
     ]
    }
   ],
   "source": [
    "list_example = list_example + [10]\n",
    "print(list_example)"
   ]
  },
  {
   "cell_type": "markdown",
   "metadata": {},
   "source": [
    "to make a two-element list."
   ]
  },
  {
   "cell_type": "markdown",
   "metadata": {},
   "source": [
    "In the code cell below, make and then print to screen a five-element list called \"five_element_list\", in which the elements are: 5, 4, 3, 2, \"colorless green ideas\":"
   ]
  },
  {
   "cell_type": "code",
   "execution_count": null,
   "metadata": {},
   "outputs": [],
   "source": [
    "# **answer**\n",
    "\n"
   ]
  },
  {
   "cell_type": "markdown",
   "metadata": {},
   "source": [
    "We can join—\"concatenate\"—two lists together:\n",
    "    "
   ]
  },
  {
   "cell_type": "code",
   "execution_count": 30,
   "metadata": {},
   "outputs": [
    {
     "name": "stdout",
     "output_type": "stream",
     "text": [
      "[5, 10, 1, 3, 6, 'lists', 'are', 'fun', 4]\n"
     ]
    }
   ],
   "source": [
    "list_example_two = list_example + [1, 3, 6, 'lists', 'are', 'fun', 4]\n",
    "print(list_example_two)"
   ]
  },
  {
   "cell_type": "markdown",
   "metadata": {},
   "source": [
    ">**Digression**: It is, I think, a mistake for python to use '+' in this way. In arithmetic, '+' is simply addition. With lists, '+' smashes the two lists on either side together to make a bigger list. this 'overloading' of '+' can be a source of great confusion. For example:"
   ]
  },
  {
   "cell_type": "code",
   "execution_count": 31,
   "metadata": {},
   "outputs": [
    {
     "name": "stdout",
     "output_type": "stream",
     "text": [
      " This '4' is a number: 4 ; so '+' is addition \n",
      " and so 4 + 4 = 8\n",
      "\n",
      " This '4' is a list: [4] ; so '+' is list concatenation \n",
      " and so [4] + [4] = [4, 4]\n",
      "\n",
      " Even worse is: this '4' is a string-of-symbols: \n",
      " 4 ; so '+' is symbol concatenation \n",
      " and so 4 + 4 = 44\n"
     ]
    }
   ],
   "source": [
    "# overloading of the `+` operator considered harmful:\n",
    "\n",
    "four = 4\n",
    "print(\" This '4' is a number:\", four, \"; so '+' is addition \\n and so\", four, \"+\", four, \"=\", \n",
    "      four + four)\n",
    "\n",
    "four = [4]\n",
    "print(\"\\n This '4' is a list:\", four, \"; so '+' is list concatenation \\n and so\", four, \"+\", four, \"=\", \n",
    "      four + four)\n",
    "\n",
    "four = '4'\n",
    "print(\"\\n Even worse is: this '4' is a string-of-symbols: \\n\", four, \"; so '+' is symbol concatenation \\n and so\", four, \"+\", four, \"=\", \n",
    "      four + four)"
   ]
  },
  {
   "cell_type": "markdown",
   "metadata": {},
   "source": [
    "To access not the list as a whole but an individual value in the list, simply count from the start of the list, and put the place of the object you want to access in brackets after the name of the list. \n",
    "\n",
    "**But you have to start counting from not one but zero.** \n",
    "\n",
    "Thus the initial object of a list has index 0, the second object of a list has index 1, and in the list above the eighth object has index 7:"
   ]
  },
  {
   "cell_type": "code",
   "execution_count": 32,
   "metadata": {},
   "outputs": [
    {
     "name": "stdout",
     "output_type": "stream",
     "text": [
      "fun\n"
     ]
    }
   ],
   "source": [
    "selected_example = list_example_two[7]\n",
    "print(selected_example)"
   ]
  },
  {
   "cell_type": "markdown",
   "metadata": {},
   "source": [
    "which is indeed the eighth item of 'list_example_two'.\n",
    "\n",
    "(This can become an enormous pain! I find it useful to keep my head straight to talk about \"list item 7\" and \"the 8th item on the list\"—which are, in fact, the same.)\n",
    "\n",
    "You may have noticed already that lists do not have to be made up of elements of the same kind. \n",
    "\n",
    "Indices do not have to be taken one at a time, either. Instead, we can take a 'slice;\\' of indices, and return the elements at those indices as a separate list. \n",
    "\n",
    "Suppose we just want to select out items 4 through 6 from a list. We can do so:"
   ]
  },
  {
   "cell_type": "code",
   "execution_count": 33,
   "metadata": {},
   "outputs": [
    {
     "name": "stdout",
     "output_type": "stream",
     "text": [
      "[6, 'lists', 'are']\n"
     ]
    }
   ],
   "source": [
    "selected_list = list_example_two[4:7]\n",
    "print(selected_list)"
   ]
  },
  {
   "cell_type": "markdown",
   "metadata": {},
   "source": [
    "We can select out the largest and smallest items of a list via `min` and `max`:"
   ]
  },
  {
   "cell_type": "code",
   "execution_count": 34,
   "metadata": {},
   "outputs": [
    {
     "name": "stdout",
     "output_type": "stream",
     "text": [
      "Max of a_list: 13\n",
      "Min of b_list: 1\n"
     ]
    }
   ],
   "source": [
    "# A list containing six integers.\n",
    "a_list = [1, 6, 4, 8, 13, 2]\n",
    "\n",
    "# Another list containing six integers.\n",
    "b_list = [4, 5, 2, 14, 9, 11]\n",
    "\n",
    "print('Max of a_list:', max(a_list))\n",
    "print('Min of b_list:', min(a_list))"
   ]
  },
  {
   "cell_type": "markdown",
   "metadata": {},
   "source": [
    "----\n",
    "\n",
    "A list is flexible: its elements can be anything. But often we want our lists to be things that we can do arithmetic on quickly and simply. to help us do this, we have the numerical python library: `numpy` or `np`, and the type pf lists we call _arrays_. \n",
    "\n",
    "Let us start by making an array that consists of the numbers from zero to nine:"
   ]
  },
  {
   "cell_type": "code",
   "execution_count": 35,
   "metadata": {},
   "outputs": [
    {
     "name": "stdout",
     "output_type": "stream",
     "text": [
      "Example Array: [0 1 2 3 4 5 6 7 8 9]\n"
     ]
    }
   ],
   "source": [
    "import numpy as np\n",
    "\n",
    "example_array = np.array([0, 1, 2, 3, 4, 5, 6, 7, 8, 9])\n",
    "print(\"Example Array:\", example_array)"
   ]
  },
  {
   "cell_type": "markdown",
   "metadata": {},
   "source": [
    "This could have been accomplished more quickly:"
   ]
  },
  {
   "cell_type": "code",
   "execution_count": 36,
   "metadata": {},
   "outputs": [
    {
     "name": "stdout",
     "output_type": "stream",
     "text": [
      "Another Example Array:  [0 1 2 3 4 5 6 7 8 9]\n"
     ]
    }
   ],
   "source": [
    "example_array_2 = np.arange(10)\n",
    "print('Another Example Array: ', example_array_2)"
   ]
  },
  {
   "cell_type": "markdown",
   "metadata": {},
   "source": [
    "Multiplying a list and an array by a number produce different results:"
   ]
  },
  {
   "cell_type": "code",
   "execution_count": 37,
   "metadata": {},
   "outputs": [
    {
     "name": "stdout",
     "output_type": "stream",
     "text": [
      "Multiplying a list by 2:  [4, 5, 2, 14, 9, 11, 4, 5, 2, 14, 9, 11]\n",
      "Multiplying an array by 2:  [ 8 10  4 28 18 22]\n"
     ]
    }
   ],
   "source": [
    "b_list = [4, 5, 2, 14, 9, 11]\n",
    "print('Multiplying a list by 2: ', 2 * b_list)\n",
    "\n",
    "b_array = np.array([4, 5, 2, 14, 9, 11])\n",
    "print('Multiplying an array by 2: ', 2 * b_array)"
   ]
  },
  {
   "cell_type": "markdown",
   "metadata": {},
   "source": [
    "----"
   ]
  },
  {
   "cell_type": "markdown",
   "metadata": {},
   "source": [
    "## 2.2. Looping\n",
    "\n",
    "Loops <<https://www.tutorialspoint.com/python/python_loops.htm>> are  useful in manipulating, iterating over, or transforming large lists and arrays. The __for loop__ is useful in that it travels through a list, performing an action at each element. The following code cell moves through every element in example_array, adds it to the previous element in example_array, and copies this sum to a new array."
   ]
  },
  {
   "cell_type": "code",
   "execution_count": 38,
   "metadata": {},
   "outputs": [
    {
     "name": "stdout",
     "output_type": "stream",
     "text": [
      "[1, 1.01, 1.0201, 1.030301, 1.04060401, 1.0510100501, 1.061520150601, 1.0721353521070098, 1.08285670562808, 1.0936852726843609, 1.1046221254112045]\n"
     ]
    }
   ],
   "source": [
    "# loop for calculating the labor force in the\n",
    "# model over the next 100 years\n",
    "\n",
    "Labor_Force = []\n",
    "L = 10\n",
    "n = .01\n",
    "T = 100\n",
    "\n",
    "for i in range(T + 1):\n",
    "    Labor_Force = Labor_Force + [L]\n",
    "    L = L * (1 + n)\n",
    "\n",
    "print(Labor_Force)"
   ]
  },
  {
   "cell_type": "markdown",
   "metadata": {},
   "source": [
    "The most important line in the above cell is the 'for i in...' line. This statement sets the structure of our  loop, instructing the machine to stop at every number in `range(T+1)`, perform the indicated operations, and then move on. Once Python has stopped at every element in `range(T+1)`, the loop is completed and the final line, which outputs `Labor_Force`, is executed.\n",
    "\n",
    "In the code cell below, write a loop to calculate the labor force over the next hundred years if (a) its initial value is 50, and (b) if its growth rate is 2% per year:"
   ]
  },
  {
   "cell_type": "code",
   "execution_count": 2,
   "metadata": {},
   "outputs": [
    {
     "name": "stdout",
     "output_type": "stream",
     "text": [
      "[50, 51.0, 52.02, 53.0604, 54.121608, 55.204040160000005, 56.308120963200004, 57.434283382464, 58.582969050113284, 59.75462843111555, 60.94972099973786, 62.16871541973262, 63.41208972812728, 64.68033152268983, 65.97393815314362, 67.2934169162065, 68.63928525453063, 70.01207095962125, 71.41231237881368, 72.84055862638995, 74.29736979891776, 75.78331719489611, 77.29898353879403, 78.84496320956991, 80.42186247376131, 82.03029972323654, 83.67090571770127, 85.3443238320553, 87.0512103086964, 88.79223451487033, 90.56807920516773, 92.37944078927109, 94.22702960505652, 96.11157019715765, 98.0338016011008, 99.99447763312283, 101.99436718578528, 104.03425452950098, 106.11493962009101, 108.23723841249283, 110.40198318074269, 112.61002284435754, 114.8622233012447, 117.15946776726959, 119.50265712261498, 121.89271026506728, 124.33056447036863, 126.817175759776, 129.35351927497152, 131.94058966047095, 134.57940145368036, 137.27098948275398, 140.01640927240905, 142.81673745785724, 145.6730722070144, 148.5865336511547, 151.5582643241778, 154.58942961066137, 157.6812182028746, 160.83484256693208, 164.05153941827072, 167.33257020663615, 170.67922161076888, 174.09280604298425, 177.57466216384393, 181.12615540712082, 184.74867851526324, 188.44365208556852, 192.2125251272799, 196.0567756298255, 199.97791114242202, 203.97746936527045, 208.05701875257586, 212.2181591276274, 216.46252231017993, 220.79177275638355, 225.20760821151123, 229.71176037574145, 234.30599558325628, 238.9921154949214, 243.77195780481983, 248.64739696091624, 253.62034490013457, 258.69275179813724, 263.86660683409997, 269.14393897078196, 274.5268177501976, 280.01735410520155, 285.61770118730556, 291.3300552110517, 297.1566563152727, 303.09978944157814, 309.1617852304097, 315.3450209350179, 321.65192135371825, 328.08495978079264, 334.6466589764085, 341.33959215593666, 348.16638399905537, 355.12971167903646, 362.2323059126172]\n"
     ]
    }
   ],
   "source": [
    "# **answer**\n",
    "\n"
   ]
  },
  {
   "cell_type": "markdown",
   "metadata": {},
   "source": [
    "We have done our calculation. But the form in which the computer presents it to us is nearly unreadable.\n",
    "\n",
    "So now let us do a little magic, using the `pandas` or `pd` library::"
   ]
  },
  {
   "cell_type": "code",
   "execution_count": 39,
   "metadata": {},
   "outputs": [
    {
     "data": {
      "text/plain": [
       "<AxesSubplot:title={'center':'Labor Force'}, xlabel='Year', ylabel='Value'>"
      ]
     },
     "execution_count": 39,
     "metadata": {},
     "output_type": "execute_result"
    },
    {
     "data": {
      "image/png": "[encoded data removed]",
      "text/plain": [
       "<Figure size 432x288 with 1 Axes>"
      ]
     },
     "metadata": {
      "needs_background": "light"
     },
     "output_type": "display_data"
    }
   ],
   "source": [
    "# calculating the labor force for the next 100 years\n",
    "\n",
    "import numpy as np\n",
    "import pandas as pd\n",
    "\n",
    "Labor_Force = []\n",
    "L = 100\n",
    "n = .01\n",
    "\n",
    "for i in range(101):\n",
    "    Labor_Force = Labor_Force + [L]\n",
    "    L = L * (1 + n)\n",
    "\n",
    "pd.DataFrame(Labor_Force).plot(title = \"Labor Force\", xlabel = \"Year\", \n",
    "    ylabel = \"Value\")"
   ]
  },
  {
   "cell_type": "markdown",
   "metadata": {},
   "source": [
    "Once we have told Python that we want it to think of the list `Labor Force` as a **pandas DataFrame**, simply adding `.plot()` at the end of our expression will create a graph. And we can put the labels and such for the graph inside the final `()`. We are not limited to simply plotting one series:"
   ]
  },
  {
   "cell_type": "code",
   "execution_count": 40,
   "metadata": {},
   "outputs": [
    {
     "data": {
      "text/plain": [
       "<AxesSubplot:>"
      ]
     },
     "execution_count": 40,
     "metadata": {},
     "output_type": "execute_result"
    },
    {
     "data": {
      "image/png": "[encoded data removed]",
      "text/plain": [
       "<Figure size 432x288 with 1 Axes>"
      ]
     },
     "metadata": {
      "needs_background": "light"
     },
     "output_type": "display_data"
    }
   ],
   "source": [
    "# calculating the labor force and the efficiency-of-labor for the next 100 years\n",
    "\n",
    "Year = []\n",
    "\n",
    "Labor_Force = []\n",
    "L = 10\n",
    "n = 0.01\n",
    "\n",
    "Efficiency_of_Labor = []\n",
    "E = 10\n",
    "g = 0.02\n",
    "\n",
    "for i in range(101):\n",
    "    Labor_Force = Labor_Force + [L]\n",
    "    L = L * (1 + n)\n",
    "    Efficiency_of_Labor = Efficiency_of_Labor + [E]\n",
    "    E = E * (1 + g)\n",
    "    Year = Year + [i]\n",
    "\n",
    "pd.DataFrame([Year, Labor_Force, Efficiency_of_Labor]\n",
    "    ).transpose().plot()"
   ]
  },
  {
   "cell_type": "markdown",
   "metadata": {},
   "source": [
    "And, once again, we can place legends and clean-up the graph by putting things inside the final parentheses:"
   ]
  },
  {
   "cell_type": "code",
   "execution_count": 41,
   "metadata": {},
   "outputs": [
    {
     "data": {
      "text/plain": [
       "<AxesSubplot:title={'center':'Growth Model Variables'}, xlabel='Year', ylabel='Value'>"
      ]
     },
     "execution_count": 41,
     "metadata": {},
     "output_type": "execute_result"
    },
    {
     "data": {
      "image/png": "[encoded data removed]",
      "text/plain": [
       "<Figure size 432x288 with 1 Axes>"
      ]
     },
     "metadata": {
      "needs_background": "light"
     },
     "output_type": "display_data"
    }
   ],
   "source": [
    "pd.DataFrame([Year, Labor_Force, Efficiency_of_Labor]\n",
    "    ).transpose().plot(\n",
    "    title = \"Growth Model Variables\", xlabel = \"Year\", \n",
    "    ylabel = \"Value\", legend = 0)"
   ]
  },
  {
   "cell_type": "markdown",
   "metadata": {},
   "source": [
    "----"
   ]
  },
  {
   "cell_type": "markdown",
   "metadata": {},
   "source": [
    "## 2.3. Reflection\n",
    "\n",
    "Do not let any of this scare you. It is about building tools so that you can think better. And, at the bottom, all we are doing is counting things—but doing so by standing on the shoulders of giants, who have figured out how to enable us to count things in incredibly compressed, incredibly powerful ways.\n",
    "\n",
    "Listen to physicist Richard Feynman explain how his QED model of light-matter interactions is simply counting things—adding up all the possible different ways a photon might interact with an electron—by analogy:\n",
    "\n",
    ">“An analogy.... The Maya Indians were interested in... [the War-Star] Venus.... To make calculations, the Maya had invented a system of bars and dots to represent numbers... and had rules by which to calculate and predict not only the risings and settings of Venus, but other celestial phenomena.... Only a few Maya priests could do such elaborate calculations.... Suppose we were to ask one of them how to do just one step in the process of predicting when Venus will next rise as a morning star—subtracting two numbers..... How would the priest explain?....\n",
    " \n",
    ">He could either teach us the... bars and dots and the rule... or he could tell us what he was really doing: ‘Suppose we want to subtract 236 from 584. First, count out 584 beans and put them in a pot. Then take out 236 beans and put them to one side. Finally, count the beans left in the pot. That number is the result....’ You might say, ‘My Quetzalcoatl! What tedium... what a job!’ To which the priest would reply, ‘That’s why we have the rules.... The rules are tricky, but they are a much more efficient way of getting the answer.... We can predict the appearance of Venus by counting beans (which is slow, but easy to understand) or by using the tricky rules (which is much faster, but you must spend years in school to learn them)’...\n",
    "\n",
    "Python is the equivalent of learning a bunch of such rules, and practicing applying them."
   ]
  },
  {
   "cell_type": "markdown",
   "metadata": {},
   "source": [
    "----"
   ]
  },
  {
   "cell_type": "markdown",
   "metadata": {},
   "source": [
    "## 3. Growth Models "
   ]
  },
  {
   "cell_type": "markdown",
   "metadata": {},
   "source": [
    "### 3.1. Behavioral Relationships"
   ]
  },
  {
   "cell_type": "markdown",
   "metadata": {},
   "source": [
    "Let us set out the basic Solow Growth Model:\n",
    "\n",
    "We assume that a particular economy’s labor force L's proportional rate $ g_L $ is a constant _for that particular economy_ n: \n",
    "\n",
    "> $ \\frac{dL}{dt} = g_LL = nL $\n",
    "\n",
    "We also assume that a particular economy’s efficiency-of-labor E's proportional growth rate g is a constant _for that particular economy_ g:\n",
    "\n",
    ">$ \\frac{dE}{dt} = gE $\n",
    "\n",
    "We assume the production function for output-per-worker y: \n",
    "\n",
    "> $ y = \\kappa^\\theta E $\n",
    "\n",
    "Total output is equal to the labor force times output per worker:\n",
    "\n",
    "> $ Y = yL $\n",
    "\n",
    "The capital stock is equal to capital-intensity times total output:\n",
    "\n",
    "> $ K = \\kappa Y $\n",
    "\n",
    "Each year a fraction s of total gross output is invested and added to the capital stock, and a fraction $ \\delta $ of the capital stock depreciates:\n",
    "\n",
    "> $ \\frac{dK}{dt} = sY - \\delta K\n",
    "\n",
    "The code cell below sets up this model, and prints out a graph of the calculated values for the variables:"
   ]
  },
  {
   "cell_type": "code",
   "execution_count": 15,
   "metadata": {},
   "outputs": [
    {
     "data": {
      "image/png": "[encoded data removed]",
      "text/plain": [
       "<Figure size 432x288 with 1 Axes>"
      ]
     },
     "metadata": {
      "needs_background": "light"
     },
     "output_type": "display_data"
    }
   ],
   "source": [
    "# basic solow growth model code cell:\n",
    "\n",
    "# ----\n",
    "# PARAMETERS AND INITIAL CONDITIONS BLOCK\n",
    "\n",
    "T = 500                           # number of years for model run\n",
    "\n",
    "L_0 = 4                           # initial labor force\n",
    "n = 0.02                          # labor-force growth rate\n",
    "E_0 = 1                           # initial labor effiency\n",
    "g = 0.00                          # labor efficiency growth rate\n",
    "kappa_0 = 2                       # initial capital-intensity\n",
    "theta = 1                         # salience of capital in the production function\n",
    "alpha = theta/(1 + theta)         # convenient transformation of theta\n",
    "Y_0 = kappa_0**theta * E_0 * L_0  # initial total output\n",
    "y_0 = kappa_0**theta * E_0        # initial productivity\n",
    "K_0 = kappa_0 * Y_0               # initial capital stock\n",
    "s = 0.2                           # savings share of gross output\n",
    "delta = 0.03                      # capital depreciation rate\n",
    "\n",
    "# END BLOCK\n",
    "# ----\n",
    "\n",
    "import numpy as np                # import libraries\n",
    "import pandas as pd\n",
    "import matplotlib.pyplot as plt\n",
    "\n",
    "L_series = [L_0]                  # initialize time-series lists\n",
    "E_series = [E_0]\n",
    "Y_series = [Y_0]\n",
    "y_series = [y_0]\n",
    "K_series = [K_0]\n",
    "kappa_series = [kappa_0]\n",
    "\n",
    "L = L_0                           # initialize working variables\n",
    "E = E_0\n",
    "Y = Y_0\n",
    "y = y_0\n",
    "K = K_0\n",
    "kappa = kappa_0\n",
    "\n",
    "for i in range(T):                # loop for calculating next-year values\n",
    "    L = (1 + n) * L\n",
    "    E = (1 + g) * E\n",
    "    K = (1 - delta) * K + s * Y \n",
    "    Y = K**alpha * (E * L)**(1 - alpha)\n",
    "    y = K**alpha * E\n",
    "    kappa = K/Y\n",
    "    L_series = L_series + [L]     # update time series\n",
    "    E_series = E_series + [E]\n",
    "    K_series = K_series + [K]\n",
    "    Y_series = Y_series + [Y]\n",
    "    y_series = y_series + [y]\n",
    "    kappa_series = kappa_series + [kappa]\n",
    "\n",
    "solow_df = pd.DataFrame()         # create dataframe\n",
    "solow_df['Labor Force'] = L_series\n",
    "solow_df['Efficiency of Labor'] = E_series\n",
    "solow_df['Capital Stock'] = K_series\n",
    "solow_df['Total Output'] = Y_series\n",
    "solow_df['Capital-Intensity'] = kappa_series\n",
    "solow_df['Output per Worker'] = y_series\n",
    "\n",
    "ax = solow_df.plot()              # plot variables\n",
    "ax.set_title(\"Model Run\")\n",
    "ax.set_xlabel(\"Date\")\n",
    "ax.set_ylabel(\"Value\")\n",
    "\n",
    "plt.show()                        # show plot"
   ]
  },
  {
   "cell_type": "markdown",
   "metadata": {},
   "source": [
    "Suppose we just wanted to graph the labor force. Then—after running the code cell above—we would write this, and get the Python Interpreter to execute it:"
   ]
  },
  {
   "cell_type": "code",
   "execution_count": 16,
   "metadata": {},
   "outputs": [
    {
     "data": {
      "image/png": "[encoded data removed]",
      "text/plain": [
       "<Figure size 432x288 with 1 Axes>"
      ]
     },
     "metadata": {
      "needs_background": "light"
     },
     "output_type": "display_data"
    }
   ],
   "source": [
    "ax = solow_df['Labor Force'].plot() # plot the labor force\n",
    "ax.set_title(\"Labor Force\")\n",
    "ax.set_xlabel(\"Date\")\n",
    "ax.set_ylabel(\"Value\")\n",
    "\n",
    "plt.show()                          # show plot"
   ]
  },
  {
   "cell_type": "markdown",
   "metadata": {},
   "source": [
    "Now you write a code cell, plotting just capital-intensity:"
   ]
  },
  {
   "cell_type": "code",
   "execution_count": 17,
   "metadata": {},
   "outputs": [
    {
     "data": {
      "image/png": "[encoded data removed]",
      "text/plain": [
       "<Figure size 432x288 with 1 Axes>"
      ]
     },
     "metadata": {
      "needs_background": "light"
     },
     "output_type": "display_data"
    }
   ],
   "source": [
    "# **answer**\n"
   ]
  },
  {
   "cell_type": "markdown",
   "metadata": {},
   "source": [
    "Now you write a code cell, plotting just output per worker:"
   ]
  },
  {
   "cell_type": "code",
   "execution_count": 18,
   "metadata": {},
   "outputs": [
    {
     "data": {
      "image/png": "[encoded data removed]",
      "text/plain": [
       "<Figure size 432x288 with 1 Axes>"
      ]
     },
     "metadata": {
      "needs_background": "light"
     },
     "output_type": "display_data"
    }
   ],
   "source": [
    "# **answer**\n",
    "\n"
   ]
  },
  {
   "cell_type": "markdown",
   "metadata": {},
   "source": [
    "Suppose we started the economy in a different initial condition—with an initial capital-intensity of not 2 but 12. How much difference do we think it would make in the long run?\n",
    "\n",
    "Below is a copy of the Basic Solow Growth Model code cell. In it, in the `kappa_0 = 2` line, edit the line to change the 2 to 8, and then rerun the cell:"
   ]
  },
  {
   "cell_type": "code",
   "execution_count": 19,
   "metadata": {},
   "outputs": [
    {
     "data": {
      "image/png": "[encoded data removed]",
      "text/plain": [
       "<Figure size 432x288 with 1 Axes>"
      ]
     },
     "metadata": {
      "needs_background": "light"
     },
     "output_type": "display_data"
    }
   ],
   "source": [
    "# **answer**\n",
    "\n",
    "# basic solow growth model code cell cell:\n",
    "\n",
    "# ----\n",
    "# PARAMETERS AND INITIAL CONDITIONS BLOCK\n",
    "\n",
    "T = 500                           # number of years for model run\n",
    "\n",
    "L_0 = 4                           # initial labor force\n",
    "n = 0.02                          # labor-force growth rate\n",
    "E_0 = 1                           # initial labor effiency\n",
    "g = 0.00                          # labor efficiency growth rate\n",
    "kappa_0 = 12                      # initial capital-intensity\n",
    "theta = 1                         # salience of capital in the production function\n",
    "alpha = theta/(1 + theta)         # convenient transformation of theta\n",
    "Y_0 = kappa_0**theta * E_0 * L_0  # initial total output\n",
    "y_0 = kappa_0**theta * E_0        # initial productivity\n",
    "K_0 = kappa_0 * Y_0               # initial capital stock\n",
    "s = 0.2                           # savings share of gross output\n",
    "delta = 0.03                      # capital depreciation rate\n",
    "\n",
    "# END BLOCK\n",
    "# ----\n",
    "\n",
    "import numpy as np                # import libraries\n",
    "import pandas as pd\n",
    "import matplotlib.pyplot as plt\n",
    "\n",
    "L_series = [L_0]                  # initialize time-series lists\n",
    "E_series = [E_0]\n",
    "Y_series = [Y_0]\n",
    "y_series = [y_0]\n",
    "K_series = [K_0]\n",
    "kappa_series = [kappa_0]\n",
    "\n",
    "L = L_0                           # initialize working variables\n",
    "E = E_0\n",
    "Y = Y_0\n",
    "y = y_0\n",
    "K = K_0\n",
    "kappa = kappa_0\n",
    "\n",
    "for i in range(T):                # loop for calculating next-year values\n",
    "    L = (1 + n) * L\n",
    "    E = (1 + g) * E\n",
    "    K = (1 - delta) * K + s * Y \n",
    "    Y = K**alpha * (E * L)**(1 - alpha)\n",
    "    y = K**alpha * E\n",
    "    kappa = K/Y\n",
    "    L_series = L_series + [L]     # update time series\n",
    "    E_series = E_series + [E]\n",
    "    K_series = K_series + [K]\n",
    "    Y_series = Y_series + [Y]\n",
    "    y_series = y_series + [y]\n",
    "    kappa_series = kappa_series + [kappa]\n",
    "\n",
    "solow_df = pd.DataFrame()         # create dataframe\n",
    "solow_df['Labor Force'] = L_series\n",
    "solow_df['Efficiency of Labor'] = E_series\n",
    "solow_df['Capital Stock'] = K_series\n",
    "solow_df['Total Output'] = Y_series\n",
    "solow_df['Capital-Intensity'] = kappa_series\n",
    "solow_df['Output per Worker'] = y_series\n",
    "\n",
    "ax = solow_df.plot()              # plot variables\n",
    "ax.set_title(\"Model Run\")\n",
    "ax.set_xlabel(\"Date\")\n",
    "ax.set_ylabel(\"Value\")\n",
    "\n",
    "plt.show()                        # show plot"
   ]
  },
  {
   "cell_type": "markdown",
   "metadata": {},
   "source": [
    "Now plot capital-intensity for the new model run:"
   ]
  },
  {
   "cell_type": "code",
   "execution_count": 20,
   "metadata": {},
   "outputs": [
    {
     "data": {
      "image/png": "[encoded data removed]",
      "text/plain": [
       "<Figure size 432x288 with 1 Axes>"
      ]
     },
     "metadata": {
      "needs_background": "light"
     },
     "output_type": "display_data"
    }
   ],
   "source": [
    "# **answer**\n",
    "\n"
   ]
  },
  {
   "cell_type": "markdown",
   "metadata": {},
   "source": [
    "Now, in the markdown cell below, write a paragraph explaining how different the model run is and what the differences between the model runs are for those two different initial conditions with respect to capital intensity. See iof upoi can give a clear and intuitive explanation for why the differences are what they are:\n",
    "\n",
    "**Answer**: "
   ]
  },
  {
   "cell_type": "markdown",
   "metadata": {},
   "source": [
    "You are finished!\n",
    "\n",
    "When you are finished, satisfied, or stuck, print your notebook to pdf, & upload the pdf to the appropriate assignment bCourses page: <https://bcourses.berkeley.edu/courses/1511359/assignments/8365146>\n",
    "\n",
    "Also, please include with your submission all of your comments on and reactions to this assignment that you want us to know..."
   ]
  }
 ],
 "metadata": {
  "kernelspec": {
   "display_name": "Python 3",
   "language": "python",
   "name": "python3"
  },
  "language_info": {
   "codemirror_mode": {
    "name": "ipython",
    "version": 3
   },
   "file_extension": ".py",
   "mimetype": "text/x-python",
   "name": "python",
   "nbconvert_exporter": "python",
   "pygments_lexer": "ipython3",
   "version": "3.7.7"
  }
 },
 "nbformat": 4,
 "nbformat_minor": 4
}
